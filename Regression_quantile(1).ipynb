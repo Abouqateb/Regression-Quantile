{
 "cells": [
  {
   "cell_type": "markdown",
   "metadata": {},
   "source": [
    "# Rendu Regression Quantile\n",
    ">__Auteurs__:   ABOUQATEB Mouad, CADON Mathilde, LEYE ElHadji "
   ]
  },
  {
   "cell_type": "markdown",
   "metadata": {},
   "source": [
    "Commençons par importer les packages  nécessaires pour l'implémentation de la regression quantile."
   ]
  },
  {
   "cell_type": "code",
   "execution_count": 1,
   "metadata": {},
   "outputs": [],
   "source": [
    "import matplotlib.pyplot as plt\n",
    "import numpy as np\n",
    "from download import download\n",
    "import statsmodels.formula.api as ols\n",
    "import time\n",
    "import cvxpy as cp\n",
    "import statsmodels.api as sm\n",
    "from pathlib import Path\n",
    "import pandas as pd\n",
    "import seaborn as sns\n",
    "from sklearn.linear_model import RidgeCV, Ridge\n",
    "import ipywidgets as ip\n",
    "import os\n",
    "import sys\n",
    "sys.path.append(\"./codes\")\n",
    "\n",
    "plt.rcParams.update({'figure.max_open_warning': 25})  #"
   ]
  },
  {
   "cell_type": "markdown",
   "metadata": {},
   "source": [
    "# Traitement  des données"
   ]
  },
  {
   "cell_type": "markdown",
   "metadata": {},
   "source": [
    "Dans cette partie nous nous sommes  inspirés  du travail de nos camarades Joly Julien , Mohamed Sahardid et Anas El Benna"
   ]
  },
  {
   "cell_type": "code",
   "execution_count": 2,
   "metadata": {},
   "outputs": [
    {
     "name": "stdout",
     "output_type": "stream",
     "text": [
      "Downloading data from http://josephsalmon.eu/enseignement/datasets/Mesure_journaliere_Region_Occitanie_Polluants_Principaux.csv (5.3 MB)\n",
      "\n"
     ]
    },
    {
     "name": "stderr",
     "output_type": "stream",
     "text": [
      "file_sizes: 100%|██████████████████████████| 5.59M/5.59M [00:01<00:00, 4.48MB/s]\n"
     ]
    },
    {
     "name": "stdout",
     "output_type": "stream",
     "text": [
      "Successfully downloaded file to datasets/Mesure_journaliere_Region_Occitanie_Polluants_Principaux.csv\n"
     ]
    },
    {
     "name": "stderr",
     "output_type": "stream",
     "text": [
      "C:\\Users\\utilisateur\\Anaconda3\\lib\\site-packages\\pandas\\core\\arrays\\datetimes.py:1269: UserWarning: Converting to PeriodArray/Index representation will drop timezone information.\n",
      "  UserWarning,\n"
     ]
    },
    {
     "data": {
      "text/html": [
       "<div>\n",
       "<style scoped>\n",
       "    .dataframe tbody tr th:only-of-type {\n",
       "        vertical-align: middle;\n",
       "    }\n",
       "\n",
       "    .dataframe tbody tr th {\n",
       "        vertical-align: top;\n",
       "    }\n",
       "\n",
       "    .dataframe thead th {\n",
       "        text-align: right;\n",
       "    }\n",
       "</style>\n",
       "<table border=\"1\" class=\"dataframe\">\n",
       "  <thead>\n",
       "    <tr style=\"text-align: right;\">\n",
       "      <th></th>\n",
       "      <th>X</th>\n",
       "      <th>Y</th>\n",
       "      <th>id</th>\n",
       "      <th>code_insee</th>\n",
       "      <th>id_poll_ue</th>\n",
       "      <th>valeur_originale</th>\n",
       "      <th>x_l93</th>\n",
       "      <th>y_l93</th>\n",
       "      <th>x_wgs84</th>\n",
       "      <th>y_wgs84</th>\n",
       "      <th>FID</th>\n",
       "    </tr>\n",
       "  </thead>\n",
       "  <tbody>\n",
       "    <tr>\n",
       "      <td>count</td>\n",
       "      <td>20808.000000</td>\n",
       "      <td>20808.000000</td>\n",
       "      <td>20808.000000</td>\n",
       "      <td>20808.000000</td>\n",
       "      <td>20808.000000</td>\n",
       "      <td>20808.000000</td>\n",
       "      <td>20808.000000</td>\n",
       "      <td>2.080800e+04</td>\n",
       "      <td>20808.000000</td>\n",
       "      <td>20808.000000</td>\n",
       "      <td>20808.000000</td>\n",
       "    </tr>\n",
       "    <tr>\n",
       "      <td>mean</td>\n",
       "      <td>2.294313</td>\n",
       "      <td>43.571370</td>\n",
       "      <td>10404.500000</td>\n",
       "      <td>39870.082612</td>\n",
       "      <td>833.119906</td>\n",
       "      <td>33.823889</td>\n",
       "      <td>642723.199923</td>\n",
       "      <td>6.276022e+06</td>\n",
       "      <td>2.294313</td>\n",
       "      <td>43.571370</td>\n",
       "      <td>10404.500000</td>\n",
       "    </tr>\n",
       "    <tr>\n",
       "      <td>std</td>\n",
       "      <td>1.445291</td>\n",
       "      <td>0.317169</td>\n",
       "      <td>6006.896536</td>\n",
       "      <td>17521.409462</td>\n",
       "      <td>2065.511158</td>\n",
       "      <td>28.775214</td>\n",
       "      <td>116870.515281</td>\n",
       "      <td>3.490882e+04</td>\n",
       "      <td>1.445291</td>\n",
       "      <td>0.317169</td>\n",
       "      <td>6006.896536</td>\n",
       "    </tr>\n",
       "    <tr>\n",
       "      <td>min</td>\n",
       "      <td>-0.051944</td>\n",
       "      <td>42.684000</td>\n",
       "      <td>1.000000</td>\n",
       "      <td>9225.000000</td>\n",
       "      <td>1.000000</td>\n",
       "      <td>-1.000000</td>\n",
       "      <td>451389.000000</td>\n",
       "      <td>6.176050e+06</td>\n",
       "      <td>-0.051944</td>\n",
       "      <td>42.684000</td>\n",
       "      <td>1.000000</td>\n",
       "    </tr>\n",
       "    <tr>\n",
       "      <td>25%</td>\n",
       "      <td>1.418610</td>\n",
       "      <td>43.556900</td>\n",
       "      <td>5202.750000</td>\n",
       "      <td>31069.000000</td>\n",
       "      <td>5.000000</td>\n",
       "      <td>10.100000</td>\n",
       "      <td>572227.000000</td>\n",
       "      <td>6.274400e+06</td>\n",
       "      <td>1.418610</td>\n",
       "      <td>43.556900</td>\n",
       "      <td>5202.750000</td>\n",
       "    </tr>\n",
       "    <tr>\n",
       "      <td>50%</td>\n",
       "      <td>1.622590</td>\n",
       "      <td>43.610600</td>\n",
       "      <td>10404.500000</td>\n",
       "      <td>31555.000000</td>\n",
       "      <td>7.000000</td>\n",
       "      <td>20.167708</td>\n",
       "      <td>587812.000000</td>\n",
       "      <td>6.279360e+06</td>\n",
       "      <td>1.622590</td>\n",
       "      <td>43.610600</td>\n",
       "      <td>10404.500000</td>\n",
       "    </tr>\n",
       "    <tr>\n",
       "      <td>75%</td>\n",
       "      <td>3.886890</td>\n",
       "      <td>43.695400</td>\n",
       "      <td>15606.250000</td>\n",
       "      <td>34255.000000</td>\n",
       "      <td>7.000000</td>\n",
       "      <td>59.000000</td>\n",
       "      <td>771643.000000</td>\n",
       "      <td>6.288810e+06</td>\n",
       "      <td>3.886890</td>\n",
       "      <td>43.695400</td>\n",
       "      <td>15606.250000</td>\n",
       "    </tr>\n",
       "    <tr>\n",
       "      <td>max</td>\n",
       "      <td>4.697360</td>\n",
       "      <td>44.466500</td>\n",
       "      <td>20808.000000</td>\n",
       "      <td>81065.000000</td>\n",
       "      <td>6001.000000</td>\n",
       "      <td>143.498962</td>\n",
       "      <td>836001.000000</td>\n",
       "      <td>6.375360e+06</td>\n",
       "      <td>4.697360</td>\n",
       "      <td>44.466500</td>\n",
       "      <td>20808.000000</td>\n",
       "    </tr>\n",
       "  </tbody>\n",
       "</table>\n",
       "</div>"
      ],
      "text/plain": [
       "                  X             Y            id    code_insee    id_poll_ue  \\\n",
       "count  20808.000000  20808.000000  20808.000000  20808.000000  20808.000000   \n",
       "mean       2.294313     43.571370  10404.500000  39870.082612    833.119906   \n",
       "std        1.445291      0.317169   6006.896536  17521.409462   2065.511158   \n",
       "min       -0.051944     42.684000      1.000000   9225.000000      1.000000   \n",
       "25%        1.418610     43.556900   5202.750000  31069.000000      5.000000   \n",
       "50%        1.622590     43.610600  10404.500000  31555.000000      7.000000   \n",
       "75%        3.886890     43.695400  15606.250000  34255.000000      7.000000   \n",
       "max        4.697360     44.466500  20808.000000  81065.000000   6001.000000   \n",
       "\n",
       "       valeur_originale          x_l93         y_l93       x_wgs84  \\\n",
       "count      20808.000000   20808.000000  2.080800e+04  20808.000000   \n",
       "mean          33.823889  642723.199923  6.276022e+06      2.294313   \n",
       "std           28.775214  116870.515281  3.490882e+04      1.445291   \n",
       "min           -1.000000  451389.000000  6.176050e+06     -0.051944   \n",
       "25%           10.100000  572227.000000  6.274400e+06      1.418610   \n",
       "50%           20.167708  587812.000000  6.279360e+06      1.622590   \n",
       "75%           59.000000  771643.000000  6.288810e+06      3.886890   \n",
       "max          143.498962  836001.000000  6.375360e+06      4.697360   \n",
       "\n",
       "            y_wgs84           FID  \n",
       "count  20808.000000  20808.000000  \n",
       "mean      43.571370  10404.500000  \n",
       "std        0.317169   6006.896536  \n",
       "min       42.684000      1.000000  \n",
       "25%       43.556900   5202.750000  \n",
       "50%       43.610600  10404.500000  \n",
       "75%       43.695400  15606.250000  \n",
       "max       44.466500  20808.000000  "
      ]
     },
     "execution_count": 2,
     "metadata": {},
     "output_type": "execute_result"
    }
   ],
   "source": [
    "url = \"http://josephsalmon.eu/enseignement/datasets/Mesure_journaliere_Region_Occitanie_Polluants_Principaux.csv\"\n",
    "path_target = \"datasets/Mesure_journaliere_Region_Occitanie_Polluants_Principaux.csv\"\n",
    "download(url, path_target, replace=True)\n",
    "occ_raw = pd.read_csv(path_target)\n",
    "occ_raw['date'] = pd.to_datetime(occ_raw['date_debut']).dt.to_period('M')\n",
    "\n",
    "occ = occ_raw.dropna()\n",
    "occ.describe()"
   ]
  },
  {
   "cell_type": "markdown",
   "metadata": {},
   "source": [
    "Maintenant que nos données sont récupérées nous créons une liste \"ville\" où l'utilisateur indique les villes qu'il veut étudier. Remarquons que la commande isin() permet de vérifier l'existence de ces villes dans nos données. \n",
    "Nous définissons comme date le mois de juillet 2018 de manière arbitraire et nous allont regarder les relevés d'ozone."
   ]
  },
  {
   "cell_type": "code",
   "execution_count": 3,
   "metadata": {},
   "outputs": [],
   "source": [
    "ville = 'MONTPELLIER', 'TOULOUSE', 'AGDE'\n",
    "\n",
    "df = occ[occ['nom_com'].isin(ville)]\n",
    "df = df[df['polluant'] == 'O3']\n",
    "\n",
    "df.date.unique()\n",
    "\n",
    "df = df[df.date == '2018-07']\n",
    "df = df[['nom_com', 'valeur_originale']]"
   ]
  },
  {
   "cell_type": "markdown",
   "metadata": {},
   "source": [
    "Nous récupérons ensuite sous forme d'array les relevés d'ozone des villes choisies ainsi que leur nombre (car les villes n'ont pas forcément le même nombre d'observations) puis nous recodons ensuite nos villes en variables qualitatives de manière à pouvoir effectuer notre régression quantile."
   ]
  },
  {
   "cell_type": "code",
   "execution_count": 4,
   "metadata": {},
   "outputs": [],
   "source": [
    "valeur_o3 = []\n",
    "len_villes = []\n",
    "\n",
    "for i in range(len(ville)):\n",
    "\n",
    "    o3_i = df[df['nom_com'] == ville[i]].values[:, 1]\n",
    "\n",
    "    # valeurs de O3 des villes choisies\n",
    "    valeur_o3 = np.append(valeur_o3, o3_i)\n",
    "\n",
    "    # Nombre d'observations de chaque ville\n",
    "    len_villes = np.append(len_villes, o3_i.shape)\n",
    "\n",
    "X = np.zeros((int(np.sum(len_villes)), len(ville)))\n",
    "\n",
    "for i in range(len(ville)):\n",
    "    X[int(np.sum(len_villes[0:i])):int(np.sum(len_villes[0:i + 1])\n",
    "                                       ), i] = np.ones(\n",
    "                                           int(np.sum(len_villes[i])))"
   ]
  },
  {
   "cell_type": "markdown",
   "metadata": {},
   "source": [
    "#  La regression quantile"
   ]
  },
  {
   "cell_type": "markdown",
   "metadata": {},
   "source": [
    "Dans la regression classique, des moindres carrés ordinaire, nous cherchons à miniser la somme quadratique des déviations:\n",
    "$$\\text{argmin}_{\\beta} \\sum (\\beta ^Tx_i- y_i)^2 $$\n",
    "\n",
    "Nous avons vu qu'une variante de ce problème est d'ajouter un biais de régularisation (Ridge):\n",
    "$$\\text{argmin}_{\\beta} \\sum (\\beta ^Tx_i- y_i)^2  + \\lambda \\|\\beta \\|_2^2,$$  \n",
    "\n",
    "Dans la régression quantile, le problème d'optimisation dépendra du quantile $\\alpha$ désiré, le problème d'optimisation se reformule sous:\n",
    "$$\\text{argmin}_{\\beta} \\sum l_{\\alpha}(\\beta ^Tx_i- y_i)$$\n",
    "     \n",
    "Avec:\n",
    "$$l_{\\alpha}: u \\rightarrow \\alpha (u)_+ + (1-\\alpha) (u)_- = (1/2)|u| + (\\alpha-1/2) u  \\quad    \\text{    (la perte 'flipper')}$$\n"
   ]
  },
  {
   "cell_type": "markdown",
   "metadata": {},
   "source": [
    "## Implémentation de la  régression quantile en utilisant le package CVXPY\n"
   ]
  },
  {
   "cell_type": "markdown",
   "metadata": {},
   "source": [
    "Commençons par definir les valeurs du quantile $\\alpha$. Nous n'avons pas pris en compte les valeurs limites (0 et 1) car ces dernières ne permettent pas d'avoir un résultat stable."
   ]
  },
  {
   "cell_type": "code",
   "execution_count": 5,
   "metadata": {},
   "outputs": [],
   "source": [
    "tol = 0.001\n",
    "alpha_vals = np.linspace(0 + tol, 1 - tol, 100)"
   ]
  },
  {
   "cell_type": "markdown",
   "metadata": {},
   "source": [
    "### Implémentation du problème d'optimisation"
   ]
  },
  {
   "cell_type": "code",
   "execution_count": 6,
   "metadata": {},
   "outputs": [],
   "source": [
    "Y = valeur_o3\n",
    "X = X\n",
    "\n",
    "w = cp.Variable(X.shape[1])\n",
    "alpha = cp.Parameter()\n",
    "\n",
    "error = 0\n",
    "\n",
    "for i in range(len(X)):\n",
    "    r = Y[i] - (w.T * X[i])\n",
    "    error += 0.5 * cp.abs(r) + (alpha - 0.5) * r\n",
    "\n",
    "prob = cp.Problem(cp.Minimize(error))"
   ]
  },
  {
   "cell_type": "markdown",
   "metadata": {},
   "source": [
    "### Implémentation de la résolution du problème d'optimisation"
   ]
  },
  {
   "cell_type": "code",
   "execution_count": 7,
   "metadata": {},
   "outputs": [
    {
     "data": {
      "text/plain": [
       "array([[ 48.83378642,  51.19999133,  61.20207221],\n",
       "       [ 48.83379368,  51.20002584,  61.2020808 ],\n",
       "       [ 48.83379699,  52.20000005,  61.202084  ],\n",
       "       [ 48.83379804,  52.80000005,  61.20208508],\n",
       "       [ 54.83784888,  53.39999999,  68.18923188],\n",
       "       [ 54.83784901,  54.80000007,  68.18923196],\n",
       "       [ 54.83785056,  55.2999997 ,  68.18923366],\n",
       "       [ 57.9239578 ,  55.39999921,  70.00833097],\n",
       "       [ 57.923958  ,  56.19999991,  70.008331  ],\n",
       "       [ 57.92395818,  56.29999982,  70.00833125],\n",
       "       [ 58.917362  ,  56.29999996,  70.38854177],\n",
       "       [ 58.91736212,  56.30000432,  70.38854203],\n",
       "       [ 58.91736211,  58.40000002,  70.38854201],\n",
       "       [ 59.35833294,  58.40000085,  71.23471686],\n",
       "       [ 59.35833392,  58.50000021,  71.23471785],\n",
       "       [ 59.35833411,  59.09999978,  71.23471804],\n",
       "       [ 61.27916677,  59.59999994,  72.49999931],\n",
       "       [ 61.279167  ,  59.899999  ,  72.49999989],\n",
       "       [ 61.27916707,  59.90000001,  72.5000001 ],\n",
       "       [ 61.27916724,  59.90000074,  72.50000168],\n",
       "       [ 61.73541599,  60.00000005,  75.63854199],\n",
       "       [ 61.73541603,  62.50000003,  75.63854202],\n",
       "       [ 61.73541604,  62.8       ,  75.638542  ],\n",
       "       [ 65.03958099,  62.9       ,  75.973961  ],\n",
       "       [ 65.039581  ,  63.20000001,  75.973961  ],\n",
       "       [ 65.03958101,  65.6       ,  75.97396101],\n",
       "       [ 66.73332984,  65.69999919,  77.81979356],\n",
       "       [ 66.73333   ,  67.89999977,  77.819794  ],\n",
       "       [ 66.73333019,  67.90000018,  77.81979398],\n",
       "       [ 67.37083393,  69.20000004,  78.96770495],\n",
       "       [ 67.37083394,  69.29999998,  78.96770482],\n",
       "       [ 67.3708341 ,  69.59999998,  78.96770506],\n",
       "       [ 67.71388958,  70.00000002,  81.93541426],\n",
       "       [ 67.71389   ,  71.7       ,  81.935417  ],\n",
       "       [ 67.71389007,  71.79999992,  81.93541705],\n",
       "       [ 67.71389261,  71.89999949,  81.93541967],\n",
       "       [ 67.86805697,  73.29999779,  82.58437298],\n",
       "       [ 67.868057  ,  73.30000002,  82.584373  ],\n",
       "       [ 67.86805701,  74.20000001,  82.58437301],\n",
       "       [ 68.510414  ,  74.3       ,  84.694168  ],\n",
       "       [ 68.510414  ,  75.3       ,  84.694168  ],\n",
       "       [ 68.51041413,  75.89999998,  84.69416811],\n",
       "       [ 69.68518801,  75.90000013,  85.5108719 ],\n",
       "       [ 69.685188  ,  75.99999999,  85.510872  ],\n",
       "       [ 69.68518804,  76.29999997,  85.51087201],\n",
       "       [ 74.79479198,  76.69999988,  85.75173996],\n",
       "       [ 74.794792  ,  76.7       ,  85.75174   ],\n",
       "       [ 74.79479202,  77.00000002,  85.75174003],\n",
       "       [ 77.76875298,  77.1       ,  87.38229398],\n",
       "       [ 77.768753  ,  78.3       ,  87.382294  ],\n",
       "       [ 77.76875301,  78.39999996,  87.38229399],\n",
       "       [ 77.76875305,  78.99999999,  87.38229401],\n",
       "       [ 80.99687199,  79.19999998,  89.65799   ],\n",
       "       [ 80.99687201,  79.89999994,  89.65799   ],\n",
       "       [ 80.99687203,  79.90000028,  89.65799004],\n",
       "       [ 85.95417   ,  80.1       ,  95.18264   ],\n",
       "       [ 85.95417   ,  80.8       ,  95.18264   ],\n",
       "       [ 85.95417   ,  81.4       ,  95.18264   ],\n",
       "       [ 87.666664  ,  82.6       ,  95.22361   ],\n",
       "       [ 87.666664  ,  82.60000001,  95.22360999],\n",
       "       [ 87.66666406,  83.        ,  95.22361001],\n",
       "       [ 87.67355292,  83.59999999,  95.92604099],\n",
       "       [ 87.67355297,  84.49999983,  95.92604099],\n",
       "       [ 87.673553  ,  84.50000002,  95.926041  ],\n",
       "       [ 88.04374698,  84.70000001,  96.95312498],\n",
       "       [ 88.043747  ,  84.9       ,  96.953125  ],\n",
       "       [ 88.043747  ,  85.7       ,  96.953125  ],\n",
       "       [ 88.04374794,  86.19999997,  96.95312579],\n",
       "       [ 88.18958297,  86.29999999,  98.61145789],\n",
       "       [ 88.18958299,  86.3       ,  98.611458  ],\n",
       "       [ 88.189583  ,  86.79999999,  98.61145801],\n",
       "       [ 88.42986299,  87.89999998,  98.96215099],\n",
       "       [ 88.429863  ,  87.90000004,  98.962151  ],\n",
       "       [ 88.42986303,  88.40000026,  98.96215118],\n",
       "       [ 88.83541892,  88.50000004, 100.19999693],\n",
       "       [ 88.835419  ,  89.6       , 100.199997  ],\n",
       "       [ 88.83541906,  89.80000001, 100.19999702],\n",
       "       [ 91.97604393,  89.89999999, 102.44999693],\n",
       "       [ 91.97604398,  90.29999992, 102.44999699],\n",
       "       [ 91.97604416,  90.49999995, 102.44999714],\n",
       "       [ 92.44791021,  90.59999813, 104.01249357],\n",
       "       [ 92.44791392,  90.60000267, 104.01249693],\n",
       "       [ 92.44791401,  91.8       , 104.012497  ],\n",
       "       [ 92.44791456,  91.80000006, 104.01249751],\n",
       "       [ 96.13229374,  92.69999994, 108.63645885],\n",
       "       [ 96.13229421,  93.09999998, 108.63645905],\n",
       "       [ 96.13229403,  93.99999999, 108.63645911],\n",
       "       [ 96.20416252,  94.6000001 , 109.88645891],\n",
       "       [ 96.20416296,  97.00000005, 109.88645902],\n",
       "       [ 96.20416309, 101.89999907, 109.88645908],\n",
       "       [ 97.63749652, 101.90000003, 111.5343777 ],\n",
       "       [ 97.63749695, 102.30000007, 111.534378  ],\n",
       "       [ 97.63749718, 102.50000027, 111.53437838],\n",
       "       [100.84999794, 104.00000001, 113.31874796],\n",
       "       [100.84999805, 104.39999997, 113.31874801],\n",
       "       [100.84999808, 104.89999989, 113.31874809],\n",
       "       [103.04166376, 105.69999998, 125.25624774],\n",
       "       [103.04166404, 105.79999928, 125.25624803],\n",
       "       [103.04166553, 106.79998368, 125.25624926],\n",
       "       [103.04166897, 106.80001001, 125.25626171]])"
      ]
     },
     "execution_count": 7,
     "metadata": {},
     "output_type": "execute_result"
    }
   ],
   "source": [
    "r_vals = np.zeros((len(alpha_vals), len(X)))\n",
    "\n",
    "pred = np.zeros((len(alpha_vals), len(X)))\n",
    "start1 = time.time()\n",
    "for k, alpha_val in enumerate(alpha_vals):\n",
    "    alpha.value = alpha_val\n",
    "    prob.solve(solver=cp.ECOS)\n",
    "\n",
    "    for i in range(len(X)):\n",
    "        pred[k, i] = (X[i].T * w).value\n",
    "        r_vals[k, i] = (Y[i] - (X[i].T * w)).value\n",
    "end1 = time.time()\n",
    "t1 = end1 - start1\n",
    "np.unique(pred, axis=1)"
   ]
  },
  {
   "cell_type": "markdown",
   "metadata": {},
   "source": [
    "#  Implémentation de la  régression quantile en utilisant le package  statsmodels."
   ]
  },
  {
   "cell_type": "code",
   "execution_count": 8,
   "metadata": {
    "scrolled": false
   },
   "outputs": [
    {
     "name": "stderr",
     "output_type": "stream",
     "text": [
      "C:\\Users\\utilisateur\\Anaconda3\\lib\\site-packages\\statsmodels\\regression\\quantile_regression.py:236: RuntimeWarning: invalid value encountered in less_equal\n",
      "  kernels['epa'] = lambda u: 3. / 4 * (1-u**2) * np.where(np.abs(u) <= 1, 1, 0)\n"
     ]
    },
    {
     "data": {
      "text/plain": [
       "array([[ 48.83379703,  51.20000009,  61.20208403],\n",
       "       [ 48.83379734,  51.20003863,  61.20208434],\n",
       "       [ 48.83379765,  52.2000057 ,  61.20208465],\n",
       "       [ 48.83381873,  52.80000074,  61.20211313],\n",
       "       [ 53.40000122,  54.83784925,  68.18923225],\n",
       "       [ 54.80000057,  54.83785092,  68.18923267],\n",
       "       [ 54.83786151,  55.30000037,  68.18923592],\n",
       "       [ 55.40000025,  57.92395816,  70.00833116],\n",
       "       [ 56.20000011,  57.92395896,  70.00833149],\n",
       "       [ 56.29999939,  57.92396431,  70.00833299],\n",
       "       [ 56.30000042,  58.91736206,  70.38854206],\n",
       "       [ 56.30000989,  58.9173624 ,  70.3885424 ],\n",
       "       [ 58.40000028,  58.91736275,  70.38854485],\n",
       "       [ 58.40000344,  59.35833371,  71.23471771],\n",
       "       [ 58.50000052,  59.35833431,  71.23471831],\n",
       "       [ 59.10000029,  59.35833594,  71.23471867],\n",
       "       [ 59.60000014,  61.27916433,  72.49999587],\n",
       "       [ 59.89999945,  61.27916721,  72.50000021],\n",
       "       [ 59.90000042,  61.27916758,  72.50000101],\n",
       "       [ 59.90000096,  61.27916796,  72.50002397],\n",
       "       [ 60.00000345,  61.7354161 ,  75.6385421 ],\n",
       "       [ 61.73541648,  62.50000177,  75.63854248],\n",
       "       [ 61.73542327,  62.80000049,  75.63854288],\n",
       "       [ 62.90000034,  65.03958094,  75.97396094],\n",
       "       [ 63.20000018,  65.03958138,  75.97396138],\n",
       "       [ 65.03958199,  65.60000002,  75.97396421],\n",
       "       [ 65.69999958,  66.73332959,  77.81979359],\n",
       "       [ 66.73333027,  67.89999502,  77.81979427],\n",
       "       [ 66.73333069,  67.90000803,  77.81979469],\n",
       "       [ 67.37083332,  69.20000252,  78.96770432],\n",
       "       [ 67.37083415,  69.30000102,  78.96770515],\n",
       "       [ 67.37083459,  69.6000004 ,  78.96770595],\n",
       "       [ 67.7138891 ,  70.00000022,  81.935408  ],\n",
       "       [ 67.71389002,  71.70000004,  81.93541702],\n",
       "       [ 67.71389073,  71.79999973,  81.93541775],\n",
       "       [ 67.71389128,  71.89999939,  81.93543651],\n",
       "       [ 67.86805677,  73.29998595,  82.58437277],\n",
       "       [ 67.86805735,  73.30000534,  82.58437335],\n",
       "       [ 67.86805785,  74.20000067,  82.58437789],\n",
       "       [ 68.51041355,  74.30000074,  84.69416755],\n",
       "       [ 68.51041421,  75.30000028,  84.69416821],\n",
       "       [ 68.51041623,  75.89999955,  84.69416873],\n",
       "       [ 69.68518681,  75.90000043,  85.51087137],\n",
       "       [ 69.68518806,  75.99999954,  85.51087206],\n",
       "       [ 69.68518952,  76.29999927,  85.51087261],\n",
       "       [ 74.79479121,  76.69994416,  85.75173921],\n",
       "       [ 74.79479187,  76.70000355,  85.75173987],\n",
       "       [ 74.79479246,  77.00000059,  85.75174081],\n",
       "       [ 77.10000036,  77.76873849,  87.38229306],\n",
       "       [ 77.76875269,  78.30000012,  87.38229362],\n",
       "       [ 77.76875331,  78.39999988,  87.38229431],\n",
       "       [ 77.76875394,  78.99999964,  87.38230839],\n",
       "       [ 79.19999906,  80.99687154,  89.65798954],\n",
       "       [ 79.89999618,  80.99687213,  89.65799013],\n",
       "       [ 79.90005508,  80.99687279,  89.65799079],\n",
       "       [ 80.10000073,  85.95416776,  95.1826386 ],\n",
       "       [ 80.80000046,  85.95416994,  95.18263994],\n",
       "       [ 81.40000018,  85.9541711 ,  95.18264063],\n",
       "       [ 82.59999946,  87.6666615 ,  95.22360927],\n",
       "       [ 82.60000029,  87.66666374,  95.22360979],\n",
       "       [ 82.99999911,  87.66666445,  95.22361045],\n",
       "       [ 83.59999933,  87.67355215,  95.92603613],\n",
       "       [ 84.49999455,  87.67355265,  95.92604065],\n",
       "       [ 84.50001398,  87.67355323,  95.92604123],\n",
       "       [ 84.70000061,  88.04372826,  96.95310545],\n",
       "       [ 84.90000027,  88.04374631,  96.95312452],\n",
       "       [ 85.69999996,  88.04374698,  96.95312498],\n",
       "       [ 86.19999978,  88.04375056,  96.95313372],\n",
       "       [ 86.29999625,  88.18958241,  98.6114568 ],\n",
       "       [ 86.29999993,  88.18958285,  98.61145785],\n",
       "       [ 86.79999757,  88.18958368,  98.61145868],\n",
       "       [ 87.89999142,  88.42986231,  98.96215031],\n",
       "       [ 87.9000053 ,  88.42986273,  98.96215073],\n",
       "       [ 88.40000048,  88.42986341,  98.96215141],\n",
       "       [ 88.49999998,  88.83541821, 100.19999334],\n",
       "       [ 88.83541862,  89.59999982, 100.19999662],\n",
       "       [ 88.83541906,  89.79999964, 100.19999706],\n",
       "       [ 89.89999951,  91.97603705, 102.44999612],\n",
       "       [ 90.29999831,  91.97604352, 102.44999652],\n",
       "       [ 90.49999696,  91.9760439 , 102.4499969 ],\n",
       "       [ 90.59999907,  92.44790654, 104.01247289],\n",
       "       [ 90.60000069,  92.44791342, 104.01249589],\n",
       "       [ 91.7999993 ,  92.44791379, 104.01249679],\n",
       "       [ 91.80000013,  92.44791759, 104.01249781],\n",
       "       [ 92.69999971,  96.13229205, 108.63645833],\n",
       "       [ 93.09999953,  96.13229369, 108.63645869],\n",
       "       [ 93.99999912,  96.13229429, 108.63645929],\n",
       "       [ 94.5999993 ,  96.20416225, 109.88645661],\n",
       "       [ 96.2041626 ,  96.99999571, 109.8864586 ],\n",
       "       [ 96.20416294, 101.89997964, 109.88645894],\n",
       "       [ 97.63749161, 101.90000022, 111.53437346],\n",
       "       [ 97.63749615, 102.29999989, 111.53437751],\n",
       "       [ 97.63749684, 102.49999976, 111.53437784],\n",
       "       [100.84998764, 103.99999963, 113.31874615],\n",
       "       [100.84999743, 104.39999933, 113.31874743],\n",
       "       [100.84999775, 104.89999854, 113.31874775],\n",
       "       [103.04166019, 105.69999926, 125.25621859],\n",
       "       [103.04166335, 105.79999428, 125.25624735],\n",
       "       [103.04166366, 106.79996134, 125.25624766],\n",
       "       [103.04166397, 106.79999991, 125.25624797]])"
      ]
     },
     "execution_count": 8,
     "metadata": {},
     "output_type": "execute_result"
    }
   ],
   "source": [
    "start2 = time.time()\n",
    "mod = ols.quantreg('valeur_originale~nom_com', df)\n",
    "\n",
    "# prediction : lignes:les quantiles; colonnes:les trois villes\n",
    "nCol = len(np.unique(df[['nom_com']]))\n",
    "nRow = len(alpha_vals)\n",
    "prediction = np.zeros((nRow, nCol))\n",
    "\n",
    "for k, alpha in enumerate(alpha_vals):\n",
    "    res = mod.fit(q=alpha)\n",
    "    # les trois quantiles sans redandances\n",
    "    prediction[k] = (np.unique(res.predict(df[['nom_com']])))\n",
    "\n",
    "end2 = time.time()\n",
    "t2 = end2 - start2\n",
    "\n",
    "prediction"
   ]
  },
  {
   "cell_type": "code",
   "execution_count": 9,
   "metadata": {},
   "outputs": [
    {
     "name": "stdout",
     "output_type": "stream",
     "text": [
      "le temps d'excution avec l'implémentation de la régression quantile en utilisant CVXPY : 66.93518328666687\n",
      "le temps d'excution avec l'implémentation obtenue par celle du package statsmodels.: 4.513769626617432\n"
     ]
    }
   ],
   "source": [
    "print(\n",
    "    \"le temps d'excution avec l'implémentation de la régression quantile en utilisant CVXPY :\",\n",
    "    t1)\n",
    "print(\n",
    "    \"le temps d'excution avec l'implémentation obtenue par celle du package statsmodels.:\",\n",
    "    t2)"
   ]
  },
  {
   "cell_type": "markdown",
   "metadata": {},
   "source": [
    "On note que l'implémentation avec le package statsmodels est environ dix fois plus performante que l'implémentation réalisée \"à la main\" en utilisant le package CVXPY."
   ]
  },
  {
   "cell_type": "markdown",
   "metadata": {},
   "source": [
    "# Comparaison entre la régression Ridge et la régression quantile"
   ]
  },
  {
   "cell_type": "markdown",
   "metadata": {},
   "source": [
    "Nous réalisons tout d'abord le même graphique que le groupe précédent en affichant, cette fois, les valeurs de nos régressions quantile en fonction du paramètre $\\alpha$"
   ]
  },
  {
   "cell_type": "code",
   "execution_count": 10,
   "metadata": {},
   "outputs": [],
   "source": [
    "def quantile_comparaison(alpha):\n",
    "    current_palette = sns.color_palette()\n",
    "    fig = sns.catplot(y=\"valeur_originale\",\n",
    "                      x=\"nom_com\",\n",
    "                      data=df,\n",
    "                      jitter='0.05',\n",
    "                      legend_out=False,\n",
    "                      order=list(ville),\n",
    "                      height=8)\n",
    "\n",
    "    plt.axhline(y=np.mean(valeur_o3),\n",
    "                xmin=0,\n",
    "                xmax=len(ville),\n",
    "                ls='--',\n",
    "                linewidth=3,\n",
    "                color='grey')\n",
    "    plt.text(len(ville) - 0.3,\n",
    "             np.mean(valeur_o3) - 2,\n",
    "             '$\\\\bar y$',\n",
    "             color='grey',\n",
    "             verticalalignment='bottom',\n",
    "             horizontalalignment='right',\n",
    "             fontsize=25)\n",
    "\n",
    "    mod = ols.quantreg('valeur_originale~nom_com', df)\n",
    "    nCol = len(np.unique(df[['nom_com']]))\n",
    "    nRow = 1\n",
    "    prediction = np.zeros((nRow, nCol))\n",
    "\n",
    "    res = mod.fit(q=alpha)\n",
    "    # les trois quantiles sans redondances\n",
    "    prediction = (np.unique(res.predict(df[['nom_com']])))\n",
    "\n",
    "    for i in range(len(ville)):\n",
    "        plt.scatter(i,\n",
    "                    np.mean(valeur_o3[int(np.sum(len_villes[0:i])\n",
    "                                          ):int(np.sum(len_villes[0:i + 1]))]),\n",
    "                    marker='_',\n",
    "                    lw=10,\n",
    "                    color=current_palette[i],\n",
    "                    s=600)\n",
    "\n",
    "        plt.text(i + 0.2,\n",
    "                 np.mean(valeur_o3[int(np.sum(len_villes[0:i])\n",
    "                                       ):int(np.sum(len_villes[0:i + 1]))] -\n",
    "                         2),\n",
    "                 '$\\\\bar y _{}$'.format(i),\n",
    "                 verticalalignment='bottom',\n",
    "                 horizontalalignment='left',\n",
    "                 color=current_palette[i],\n",
    "                 fontsize=20)\n",
    "\n",
    "        plt.scatter(i,\n",
    "                    prediction[i],\n",
    "                    s=400,\n",
    "                    marker='_',\n",
    "                    color=current_palette[len(ville) + i],\n",
    "                    lw=5,\n",
    "                    label='Regression Quantile {}'.format(ville[i]))\n",
    "\n",
    "    plt.legend(loc='upper left', bbox_to_anchor=(1., .9))\n",
    "    plt.tight_layout()\n",
    "    plt.title('Regression quantile en fonction du quantile choisi')"
   ]
  },
  {
   "cell_type": "code",
   "execution_count": 11,
   "metadata": {},
   "outputs": [
    {
     "data": {
      "application/vnd.jupyter.widget-view+json": {
       "model_id": "47f8aadc44754f0d9cde72ecd7817142",
       "version_major": 2,
       "version_minor": 0
      },
      "text/plain": [
       "interactive(children=(FloatSlider(value=0.4991, description='alpha', max=0.9999, min=0.0001, step=0.001), Outp…"
      ]
     },
     "metadata": {},
     "output_type": "display_data"
    },
    {
     "data": {
      "text/plain": [
       "<function __main__.quantile_comparaison(alpha)>"
      ]
     },
     "execution_count": 11,
     "metadata": {},
     "output_type": "execute_result"
    }
   ],
   "source": [
    "%matplotlib inline\n",
    "ip.interact(quantile_comparaison, alpha=(0.0001, 0.9999, 0.001))"
   ]
  },
  {
   "cell_type": "markdown",
   "metadata": {},
   "source": [
    "Remarquons que pour  $\\alpha=0.5$  notre régression retourne la médiane des observations, l'estimateur (OLS) (Ridge  𝜆=0 ) retourne la moyenne des observations, ce qui explique les résultats presques similaires pour ces valeurs.\n",
    "\n",
    "De plus, on remarque que pour la régression quantile, la prédiction couvre toutes les valeurs en fonction du quantile choisi alors que pour la prédiction Ridge, les prédictions sont toujours proches de la moyenne."
   ]
  },
  {
   "cell_type": "markdown",
   "metadata": {},
   "source": [
    "Vérifions maintenant les valeurs obtenues par la régression quantile pour des variables catégorielles."
   ]
  },
  {
   "cell_type": "code",
   "execution_count": 12,
   "metadata": {},
   "outputs": [],
   "source": [
    "def quantile(alpha):\n",
    "    current_palette = sns.color_palette()\n",
    "    fig = sns.catplot(y=\"valeur_originale\",\n",
    "                      x=\"nom_com\",\n",
    "                      data=df,\n",
    "                      jitter='0.05',\n",
    "                      legend_out=False,\n",
    "                      order=list(ville),\n",
    "                      height=8)\n",
    "    ax = sns.boxplot(x=\"nom_com\",\n",
    "                     y=\"valeur_originale\",\n",
    "                     data=df,\n",
    "                     palette=\"Set3\",\n",
    "                     order=[\"MONTPELLIER\", \"TOULOUSE\", \"AGDE\"])\n",
    "\n",
    "    mod = ols.quantreg('valeur_originale~nom_com', df)\n",
    "    nCol = len(np.unique(df[['nom_com']]))\n",
    "    nRow = 1\n",
    "    prediction = np.zeros((nRow, nCol))\n",
    "\n",
    "    res = mod.fit(q=alpha)\n",
    "    # les trois quantiles sans redondances\n",
    "    prediction = (np.unique(res.predict(df[['nom_com']])))\n",
    "\n",
    "    for i in range(len(ville)):\n",
    "        plt.scatter(i,\n",
    "                    prediction[i],\n",
    "                    s=400,\n",
    "                    marker='_',\n",
    "                    color=current_palette[len(ville) + i],\n",
    "                    lw=5,\n",
    "                    label='Regression Quantile {}'.format(ville[i]))\n",
    "\n",
    "    plt.legend(loc='upper left', bbox_to_anchor=(1., .9))\n",
    "    plt.tight_layout()\n",
    "    plt.title('Regression quantile en fonction du quantile choisi')\n",
    "    #plt.gca().axes.xaxis.set_ticklabels(['MONTPELLIER', 'TOULOUSE', 'AGDE'])"
   ]
  },
  {
   "cell_type": "code",
   "execution_count": 13,
   "metadata": {
    "scrolled": false
   },
   "outputs": [
    {
     "data": {
      "application/vnd.jupyter.widget-view+json": {
       "model_id": "fade8e905590476185fe4e102b47a08e",
       "version_major": 2,
       "version_minor": 0
      },
      "text/plain": [
       "interactive(children=(FloatSlider(value=0.4901, description='alpha', max=0.9999, min=0.0001, step=0.01), Outpu…"
      ]
     },
     "metadata": {},
     "output_type": "display_data"
    },
    {
     "data": {
      "text/plain": [
       "<function __main__.quantile(alpha)>"
      ]
     },
     "execution_count": 13,
     "metadata": {},
     "output_type": "execute_result"
    }
   ],
   "source": [
    "%matplotlib inline\n",
    "ip.interact(quantile, alpha=(0.0001, 0.9999, 0.01))"
   ]
  },
  {
   "cell_type": "markdown",
   "metadata": {},
   "source": [
    "Avec ce graphe, on à la vérification visuelle des valeurs des quantiles selon le boxplot des villes. On remarque donc bien que l'on retrouve la médiane et les quantiles 0.25 et 0.75 (un peu biaisés).\n",
    "\n",
    "Lorsque l'on a $\\alpha=0.5$ cela signifie que la distance à $\\mu$ est nulle et on retrouve bien la médiane."
   ]
  },
  {
   "cell_type": "markdown",
   "metadata": {},
   "source": [
    "# Reproduction de la figure du livre"
   ]
  },
  {
   "cell_type": "markdown",
   "metadata": {},
   "source": [
    "Importons les bibliothéques nécessaires à la réalisation de cette figure"
   ]
  },
  {
   "cell_type": "code",
   "execution_count": 14,
   "metadata": {},
   "outputs": [],
   "source": [
    "import numpy as np\n",
    "import matplotlib.pyplot as plt\n",
    "import pandas as pd\n",
    "import cvxpy as cp\n",
    "from ipywidgets import interact"
   ]
  },
  {
   "cell_type": "code",
   "execution_count": 15,
   "metadata": {},
   "outputs": [],
   "source": [
    "data = pd.DataFrame({\n",
    "    \"Location\": [\"Quito\", \"Cape of Good Hope\", \"Rome\", \"Paris\", \"Lapland\"],\n",
    "    \"Latitude\": [0.0, 33.18, 42.59, 49.23, 66.19],\n",
    "    \"sin2(Latitude)\": [0, 0.2987, 0.4648, 0.5762, 0.8386],\n",
    "    \"Arc Length\": [56751, 57037, 56979, 57074, 57422],\n",
    "    \"Arc Length of 1 Degree of Latitude\": [\n",
    "        56751 - 56700, 57037 - 56700, 56979 - 56700, 57074 - 56700,\n",
    "        57422 - 56700\n",
    "    ]\n",
    "})"
   ]
  },
  {
   "cell_type": "code",
   "execution_count": 16,
   "metadata": {},
   "outputs": [
    {
     "data": {
      "text/html": [
       "<div>\n",
       "<style scoped>\n",
       "    .dataframe tbody tr th:only-of-type {\n",
       "        vertical-align: middle;\n",
       "    }\n",
       "\n",
       "    .dataframe tbody tr th {\n",
       "        vertical-align: top;\n",
       "    }\n",
       "\n",
       "    .dataframe thead th {\n",
       "        text-align: right;\n",
       "    }\n",
       "</style>\n",
       "<table border=\"1\" class=\"dataframe\">\n",
       "  <thead>\n",
       "    <tr style=\"text-align: right;\">\n",
       "      <th></th>\n",
       "      <th>Location</th>\n",
       "      <th>Latitude</th>\n",
       "      <th>sin2(Latitude)</th>\n",
       "      <th>Arc Length</th>\n",
       "      <th>Arc Length of 1 Degree of Latitude</th>\n",
       "    </tr>\n",
       "  </thead>\n",
       "  <tbody>\n",
       "    <tr>\n",
       "      <td>0</td>\n",
       "      <td>Quito</td>\n",
       "      <td>0.00</td>\n",
       "      <td>0.0000</td>\n",
       "      <td>56751</td>\n",
       "      <td>51</td>\n",
       "    </tr>\n",
       "    <tr>\n",
       "      <td>1</td>\n",
       "      <td>Cape of Good Hope</td>\n",
       "      <td>33.18</td>\n",
       "      <td>0.2987</td>\n",
       "      <td>57037</td>\n",
       "      <td>337</td>\n",
       "    </tr>\n",
       "    <tr>\n",
       "      <td>2</td>\n",
       "      <td>Rome</td>\n",
       "      <td>42.59</td>\n",
       "      <td>0.4648</td>\n",
       "      <td>56979</td>\n",
       "      <td>279</td>\n",
       "    </tr>\n",
       "    <tr>\n",
       "      <td>3</td>\n",
       "      <td>Paris</td>\n",
       "      <td>49.23</td>\n",
       "      <td>0.5762</td>\n",
       "      <td>57074</td>\n",
       "      <td>374</td>\n",
       "    </tr>\n",
       "    <tr>\n",
       "      <td>4</td>\n",
       "      <td>Lapland</td>\n",
       "      <td>66.19</td>\n",
       "      <td>0.8386</td>\n",
       "      <td>57422</td>\n",
       "      <td>722</td>\n",
       "    </tr>\n",
       "  </tbody>\n",
       "</table>\n",
       "</div>"
      ],
      "text/plain": [
       "            Location  Latitude  sin2(Latitude)  Arc Length  \\\n",
       "0              Quito      0.00          0.0000       56751   \n",
       "1  Cape of Good Hope     33.18          0.2987       57037   \n",
       "2               Rome     42.59          0.4648       56979   \n",
       "3              Paris     49.23          0.5762       57074   \n",
       "4            Lapland     66.19          0.8386       57422   \n",
       "\n",
       "   Arc Length of 1 Degree of Latitude  \n",
       "0                                  51  \n",
       "1                                 337  \n",
       "2                                 279  \n",
       "3                                 374  \n",
       "4                                 722  "
      ]
     },
     "execution_count": 16,
     "metadata": {},
     "output_type": "execute_result"
    }
   ],
   "source": [
    "data"
   ]
  },
  {
   "cell_type": "markdown",
   "metadata": {},
   "source": [
    "Nous avons ensuite fait la regression quantile grâce au package CVXPY.\n",
    "\n",
    "On cherche à prédire les valeurs de notre \"Arc Length of 1 Degree of Latitude\""
   ]
  },
  {
   "cell_type": "code",
   "execution_count": 17,
   "metadata": {},
   "outputs": [],
   "source": [
    "# Definition du problème\n",
    "X = data[\"sin2(Latitude)\"]\n",
    "Y = data[\"Arc Length of 1 Degree of Latitude\"]\n",
    "\n",
    "B = cp.Variable()  # Notre $\\beta$ à estimer\n",
    "B0 = cp.Variable()  # Ce paramêtre correspond à notre constante dans le modèle\n",
    "tau = cp.Parameter()\n",
    "error = 0\n",
    "for i in range(len(X)):\n",
    "    r = Y[i] - (B.T * X[i] + B0)\n",
    "    error += 0.5 * cp.abs(r) + (tau - 0.5) * r  # fonction à minimiser\n",
    "prob = cp.Problem(cp.Minimize(error))"
   ]
  },
  {
   "cell_type": "markdown",
   "metadata": {},
   "source": [
    "Nous venons de définir le problème en lui indiquant la fonction à minimiser. Cette fonction est la fonction de la regression quantile avec la norme $L_{1}$.\n",
    "\n",
    "Nous avons pris des valeurs du quantile comprises entre 0 et 1 (nos $\\tau$). Les points extrèmes 0 ou 1 ne nous donne pas les bons résultats vu que ce sont des valeurs extrèmes. Nous avons donc ajouter une tolérance pour notre calcul."
   ]
  },
  {
   "cell_type": "code",
   "execution_count": 18,
   "metadata": {},
   "outputs": [],
   "source": [
    "tol = 0.001\n",
    "N = 1000\n",
    "# Nous testons 1000 valeurs de quantile\n",
    "tau_vals = np.linspace(0 + tol, 1 - tol, N)\n",
    "pred = np.zeros((len(tau_vals), len(X)))  # Notre matrice de prédiction\n",
    "r_vals = np.zeros((len(tau_vals), len(X)))\n",
    "for k, tau_val in enumerate(tau_vals):\n",
    "    tau.value = tau_val\n",
    "    prob.solve()\n",
    "    for i in range(len(X)):\n",
    "        pred[k, i] = (X[i].T * B + B0).value\n",
    "        r_vals[k, i] = (Y[i] - (X[i].T * B + B0)).value"
   ]
  },
  {
   "cell_type": "markdown",
   "metadata": {},
   "source": [
    "On vient de réussir à obtenir nos prédictions dans la matrice \"pred\"."
   ]
  },
  {
   "cell_type": "code",
   "execution_count": 19,
   "metadata": {},
   "outputs": [
    {
     "data": {
      "text/plain": [
       "array([[ 51.        , 197.52237522, 279.        , 333.6454389 ,\n",
       "        462.36144578],\n",
       "       [ 51.0014845 , 197.51993237, 278.99537325, 333.63934744,\n",
       "        462.35190426],\n",
       "       [ 51.00124245, 197.52033068, 278.99612766, 333.64034068,\n",
       "        462.35346004],\n",
       "       ...,\n",
       "       [123.99080289, 336.99531629, 455.44208454, 534.88200015,\n",
       "        722.00079598],\n",
       "       [123.99080289, 336.99531629, 455.44208454, 534.88200015,\n",
       "        722.00079598],\n",
       "       [123.99080289, 336.99531629, 455.44208454, 534.88200015,\n",
       "        722.00079598]])"
      ]
     },
     "execution_count": 19,
     "metadata": {},
     "output_type": "execute_result"
    }
   ],
   "source": [
    "pred"
   ]
  },
  {
   "cell_type": "markdown",
   "metadata": {},
   "source": [
    "On remarque qu'il y à plusieurs valeurs de $\\beta$ qui sont identiques pour des $\\tau$ différents.\n",
    "Nous cherchons donc à retrouver ces différentes valeurs et à partir de quel moments elles changent."
   ]
  },
  {
   "cell_type": "code",
   "execution_count": 20,
   "metadata": {},
   "outputs": [
    {
     "name": "stdout",
     "output_type": "stream",
     "text": [
      "[  0. 213. 478. 732.]\n"
     ]
    }
   ],
   "source": [
    "# Pour retourner les indices des quantiles où la valeur change\n",
    "indice = np.zeros(4)\n",
    "# On arrondis les valeurs de nos beta pour pouvoir les traiter\n",
    "A = np.around(pred, decimals=0)\n",
    "\n",
    "for i in range(1, 4):  # On observe qu'il y a 4 valeurs différentes\n",
    "    indice[i] = np.where(\n",
    "        A[int(indice[i - 1]):] != A[int(indice[i - 1])])[0][0] + indice[i - 1]\n",
    "\n",
    "print(indice)"
   ]
  },
  {
   "cell_type": "markdown",
   "metadata": {},
   "source": [
    "Maintenant que l'on à récupéré les indices nous allons récupérer les valeurs des quantiles associés."
   ]
  },
  {
   "cell_type": "code",
   "execution_count": 21,
   "metadata": {},
   "outputs": [
    {
     "name": "stdout",
     "output_type": "stream",
     "text": [
      "[0.001      0.21378679 0.47852152 0.73226727]\n"
     ]
    }
   ],
   "source": [
    "intervals = tau_vals[indice.astype(int)]\n",
    "print(intervals)"
   ]
  },
  {
   "cell_type": "markdown",
   "metadata": {},
   "source": [
    "Revenons maintenant à la figure du livre. On observe qu'il y a 4 intervalles. \n",
    "\n",
    "Nous venons de retrouver les mêmes intervalles que ceux du livre :\n",
    "\n",
    "$]0;0.21] ; [0.21;0.48] ; [0.48;0.73] ; [0.73;1[$\n",
    "\n",
    "\n",
    "Reproduisons maintenant la figure."
   ]
  },
  {
   "cell_type": "code",
   "execution_count": 22,
   "metadata": {},
   "outputs": [
    {
     "data": {
      "image/png": "[encoded data removed]",
      "text/plain": [
       "<Figure size 1296x720 with 1 Axes>"
      ]
     },
     "metadata": {
      "needs_background": "light"
     },
     "output_type": "display_data"
    }
   ],
   "source": [
    "# Permet de stocker nos 4 regressions différentes\n",
    "droites = np.unique(np.around(pred, decimals=0), axis=0)\n",
    "fig, ax = plt.subplots(figsize=(18, 10))\n",
    "plt.plot(X, droites[0])\n",
    "plt.plot(X, droites[1])\n",
    "plt.plot(X, droites[2])\n",
    "plt.plot(X, droites[3])\n",
    "plt.xlim(-0.05, 1)\n",
    "plt.ylim(0, 1000)\n",
    "plt.title(\n",
    "    \"Figure 1.5. Regression quantiles for Boscovich ellipticity example.\")\n",
    "plt.xlabel(\"sin²(Latitude)\")\n",
    "plt.ylabel(\"Arc Length of 1 Degree of Latitude\")\n",
    "\n",
    "plt.text(0.8, 400, r\"$\\tau =(0,0.21)$\")\n",
    "plt.text(0.8, 550, r\"$\\tau =(0.21,0.48)$\")\n",
    "plt.text(0.5, 430, r\"$\\tau =(0.48,0.73)$\")\n",
    "plt.text(0.5, 550, r\"$\\tau =(0.73,1)$\")\n",
    "\n",
    "ax.scatter(X, Y)\n",
    "\n",
    "for i, txt in enumerate(data[\"Location\"]):\n",
    "    ax.annotate(txt, (X[i], Y[i]), xytext=(X[i] + .03, Y[i] - 0.01))\n",
    "\n",
    "fig.savefig('fig.pdf')\n",
    "plt.show()"
   ]
  },
  {
   "cell_type": "markdown",
   "metadata": {},
   "source": [
    "Nous voulons maintenant avoir une méthode interactive en fonction du paramêtre du quantile."
   ]
  },
  {
   "cell_type": "code",
   "execution_count": 23,
   "metadata": {},
   "outputs": [],
   "source": [
    "def reg_quantile1(tau_inter):\n",
    "    fig, ax = plt.subplots(figsize=(18, 10))\n",
    "    if 0 <= tau_inter and tau_inter <= intervals[1]:\n",
    "        plt.plot(X, droites[0], alpha=1, color=\"black\")\n",
    "        plt.plot(X, droites[1], alpha=0.2, color=\"black\")\n",
    "        plt.plot(X, droites[2], alpha=0.2, color=\"black\")\n",
    "        plt.plot(X, droites[3], alpha=0.2, color=\"black\")\n",
    "    elif intervals[1] < tau_inter and tau_inter <= intervals[2]:\n",
    "        plt.plot(X, droites[0], alpha=0.2, color=\"black\")\n",
    "        plt.plot(X, droites[1], alpha=1, color=\"black\")\n",
    "        plt.plot(X, droites[2], alpha=0.2, color=\"black\")\n",
    "        plt.plot(X, droites[3], alpha=0.2, color=\"black\")\n",
    "    elif intervals[2] < tau_inter and tau_inter <= intervals[3]:\n",
    "        plt.plot(X, droites[0], alpha=0.2, color=\"black\")\n",
    "        plt.plot(X, droites[1], alpha=0.2, color=\"black\")\n",
    "        plt.plot(X, droites[2], alpha=1, color=\"black\")\n",
    "        plt.plot(X, droites[3], alpha=0.2, color=\"black\")\n",
    "    elif intervals[3] < tau_inter and tau_inter <= 1:\n",
    "        plt.plot(X, droites[0], alpha=0.2, color=\"black\")\n",
    "        plt.plot(X, droites[1], alpha=0.2, color=\"black\")\n",
    "        plt.plot(X, droites[2], alpha=0.2, color=\"black\")\n",
    "        plt.plot(X, droites[3], alpha=1, color=\"black\")\n",
    "    plt.xlim(-0.05, 1)\n",
    "    plt.ylim(0, 1000)\n",
    "    plt.title(\n",
    "        \"Figure 1.5. Regression quantiles for Boscovich ellipticity example.\")\n",
    "    plt.xlabel(\"sin²(Latitude)\")\n",
    "    plt.ylabel(\"Arc Length of 1 Degree of Latitude\")\n",
    "\n",
    "    plt.text(0.8, 400, r\"$\\tau =(0,0.21)$\")\n",
    "    plt.text(0.8, 550, r\"$\\tau =(0.21,0.48)$\")\n",
    "    plt.text(0.5, 430, r\"$\\tau =(0.48,0.73)$\")\n",
    "    plt.text(0.5, 550, r\"$\\tau =(0.73,1)$\")\n",
    "\n",
    "    ax.scatter(X, Y)\n",
    "\n",
    "    for i, txt in enumerate(data[\"Location\"]):\n",
    "        ax.annotate(txt, (X[i], Y[i]), xytext=(X[i] + .03, Y[i] - 0.01))\n",
    "\n",
    "    plt.show()"
   ]
  },
  {
   "cell_type": "code",
   "execution_count": 24,
   "metadata": {},
   "outputs": [
    {
     "data": {
      "application/vnd.jupyter.widget-view+json": {
       "model_id": "8dc64701e1364db394be0ad52e188ff7",
       "version_major": 2,
       "version_minor": 0
      },
      "text/plain": [
       "interactive(children=(FloatSlider(value=0.491, description='tau_inter', max=0.999, min=0.001, step=0.01), Outp…"
      ]
     },
     "metadata": {},
     "output_type": "display_data"
    },
    {
     "data": {
      "text/plain": [
       "<function __main__.reg_quantile1(tau_inter)>"
      ]
     },
     "execution_count": 24,
     "metadata": {},
     "output_type": "execute_result"
    }
   ],
   "source": [
    "interact(reg_quantile1, tau_inter=(0.001, 0.999, 0.01))"
   ]
  },
  {
   "cell_type": "markdown",
   "metadata": {},
   "source": [
    "Nous avons affiché les différentes droites de regression en fonction de la valeur de quantile que l'on veut. La droite la plus foncée est celle correspondant à la valeur du quantile que l'on recherche."
   ]
  }
 ],
 "metadata": {
  "kernelspec": {
   "display_name": "Python 3",
   "language": "python",
   "name": "python3"
  },
  "language_info": {
   "codemirror_mode": {
    "name": "ipython",
    "version": 3
   },
   "file_extension": ".py",
   "mimetype": "text/x-python",
   "name": "python",
   "nbconvert_exporter": "python",
   "pygments_lexer": "ipython3",
   "version": "3.7.4"
  }
 },
 "nbformat": 4,
 "nbformat_minor": 2
}
